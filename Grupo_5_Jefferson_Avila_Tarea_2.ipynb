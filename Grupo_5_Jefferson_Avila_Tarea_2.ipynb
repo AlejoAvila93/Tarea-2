{
 "cells": [
  {
   "cell_type": "markdown",
   "metadata": {},
   "source": [
    "<div style=\"text-align: center;\">\n",
    " \n",
    "<h1>PROGRAMACION PARA EL ANALISIS DE DATOS</h1>\n",
    " \n",
    "<h2>Tarea: Tarea 1 - Principios básicos de programación científica</h2>\n",
    " \n",
    "<h3>Presentado por:</h3>\n",
    "<strong>Jefferson Alejandro Avila Camacho</strong>\n",
    " \n",
    "<h3>Grupo:</h3>\n",
    "<strong>203008069_5</strong>\n",
    " \n",
    "<h3>Código:</h3>\n",
    "<strong>1.110.536.463</strong>\n",
    " \n",
    "<h3>Universidad Nacional Abierta y a Distancia – UNAD</h3>\n",
    " \n",
    "<h3>Fecha:</h3>\n",
    "<strong>2024</strong>\n",
    " \n",
    "</div>\n",
    " "
   ]
  },
  {
   "cell_type": "markdown",
   "metadata": {},
   "source": [
    "## Introduccion ##\n",
    "\n",
    "para los docidos 44444"
   ]
  },
  {
   "cell_type": "markdown",
   "metadata": {},
   "source": [
    "## Objetivos ##\n",
    " \n",
    "ajajaajjdjdjdj jdjdjd"
   ]
  },
  {
   "cell_type": "markdown",
   "metadata": {},
   "source": [
    "# Ejercicio 1: Datos en línea y tipos de datos."
   ]
  },
  {
   "cell_type": "code",
   "execution_count": 2,
   "metadata": {},
   "outputs": [
    {
     "name": "stdout",
     "output_type": "stream",
     "text": [
      "\n",
      "Naves de SpaceX obtenidas desde la API:\n",
      "\n",
      "Nombre: American Champion | Tipo: Tug | Puerto base: Port of Los Angeles\n",
      "Nombre: American Islander | Tipo: Cargo | Puerto base: Port of Los Angeles\n",
      "Nombre: American Spirit | Tipo: Cargo | Puerto base: Port of Los Angeles\n",
      "Nombre: A Shortfall of Gravitas | Tipo: Barge | Puerto base: Port Canaveral\n",
      "Nombre: Betty R Gambarella | Tipo: Tug | Puerto base: Port of Los Angeles\n",
      "Nombre: Elsbeth III | Tipo: Tug | Puerto base: Port Canaveral\n",
      "Nombre: GO Ms Chief | Tipo: High Speed Craft | Puerto base: Port Canaveral\n",
      "Nombre: GO Ms Tree | Tipo: High Speed Craft | Puerto base: Port Canaveral\n",
      "Nombre: Shannon | Tipo: Cargo | Puerto base: Port Canaveral\n",
      "Nombre: GO Pursuit | Tipo: Cargo | Puerto base: Port Canaveral\n",
      "Nombre: GO Quest | Tipo: Cargo | Puerto base: Port Canaveral\n",
      "Nombre: Megan | Tipo: Cargo | Puerto base: Port Canaveral\n",
      "Nombre: HAWK | Tipo: Tug | Puerto base: Port Canaveral\n",
      "Nombre: Hollywood | Tipo: Tug | Puerto base: Fort Lauderdale\n",
      "Nombre: Just Read The Instructions 1 | Tipo: Barge | Puerto base: Port Canaveral\n",
      "Nombre: Just Read The Instructions 2 | Tipo: Barge | Puerto base: Port Canaveral\n",
      "Nombre: Kelly C | Tipo: Tug | Puerto base: Port of Los Angeles\n",
      "Nombre: NRC Quest | Tipo: Cargo | Puerto base: Port of Los Angeles\n",
      "Nombre: Of Course I Still Love You | Tipo: Barge | Puerto base: Port of Los Angeles\n",
      "Nombre: Pacific Freeedom | Tipo: Tug | Puerto base: Port of Los Angeles\n",
      "Nombre: Pacific Warrior | Tipo: Tug | Puerto base: Port of Los Angeles\n",
      "Nombre: RACHEL | Tipo: Tug | Puerto base: Port Canaveral\n",
      "Nombre: Finn Falgout | Tipo: Tug | Puerto base: Port Canaveral\n",
      "Nombre: Lauren Foss | Tipo: Tug | Puerto base: Port Canaveral\n",
      "Nombre: Shelia Bordelon | Tipo: Cargo | Puerto base: Port Canaveral\n",
      "Nombre: Mr. Jonah | Tipo: Tug | Puerto base: Port Canaveral\n",
      "Nombre: HOS Briarwood | Tipo: Cargo | Puerto base: Port Canaveral\n",
      "Nombre: Doug | Tipo: Cargo | Puerto base: Port Canaveral\n",
      "Nombre: Bob | Tipo: Cargo | Puerto base: Port Canaveral\n"
     ]
    }
   ],
   "source": [
    "import requests\n",
    "\n",
    "def obtener_naves_spacex():\n",
    "    \"\"\"\n",
    "    Esta función realiza una solicitud GET a la API de SpaceX\n",
    "    para obtener información de las naves espaciales.\n",
    "    \"\"\"\n",
    "    # URL de la API de SpaceX\n",
    "    url = \"https://api.spacexdata.com/v4/ships\"\n",
    "    \n",
    "    try:\n",
    "        # Realizar la solicitud GET\n",
    "        respuesta = requests.get(url)\n",
    "        \n",
    "        # Verificar si la solicitud fue exitosa\n",
    "        if respuesta.status_code == 200:\n",
    "            # Convertir la respuesta en formato JSON\n",
    "            naves = respuesta.json()\n",
    "            return naves\n",
    "        else:\n",
    "            print(f\"Error al obtener datos. Código de estado: {respuesta.status_code}\")\n",
    "            return None\n",
    "    except requests.RequestException as e:\n",
    "        print(f\"Error de conexión: {e}\")\n",
    "        return None\n",
    "\n",
    "def main():\n",
    "    \"\"\"\n",
    "    Función principal para ejecutar la obtención y visualización de datos.\n",
    "    \"\"\"\n",
    "    # Llamar a la función para obtener las naves\n",
    "    naves = obtener_naves_spacex()\n",
    "    \n",
    "    # Mostrar los datos obtenidos\n",
    "    if naves:\n",
    "        print(\"\\nNaves de SpaceX obtenidas desde la API:\\n\")\n",
    "        for nave in naves:\n",
    "            nombre = nave.get('name', 'Desconocido')\n",
    "            tipo = nave.get('type', 'Desconocido')\n",
    "            puerto_casa = nave.get('home_port', 'Desconocido')\n",
    "            print(f\"Nombre: {nombre} | Tipo: {tipo} | Puerto base: {puerto_casa}\")\n",
    "    else:\n",
    "        print(\"No se pudo obtener la información de las naves.\")\n",
    "\n",
    "if __name__ == \"__main__\":\n",
    "    main()"
   ]
  }
 ],
 "metadata": {
  "kernelspec": {
   "display_name": "Python 3",
   "language": "python",
   "name": "python3"
  },
  "language_info": {
   "codemirror_mode": {
    "name": "ipython",
    "version": 3
   },
   "file_extension": ".py",
   "mimetype": "text/x-python",
   "name": "python",
   "nbconvert_exporter": "python",
   "pygments_lexer": "ipython3",
   "version": "3.13.0"
  }
 },
 "nbformat": 4,
 "nbformat_minor": 2
}
